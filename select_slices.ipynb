{
 "cells": [
  {
   "cell_type": "code",
   "execution_count": 1,
   "metadata": {},
   "outputs": [],
   "source": [
    "#pip install pydicom\n",
    "import pandas as pd\n",
    "import numpy as np\n",
    "import pydicom as dicom\n",
    "import matplotlib.pylab as plt \n",
    "import os"
   ]
  },
  {
   "cell_type": "code",
   "execution_count": 33,
   "metadata": {},
   "outputs": [],
   "source": [
    "path_n1 = r'C:\\Users\\Lucas\\Desktop\\UFABC\\TG\\Bases'\n",
    "files_n1 = os.listdir(path_n1)\n",
    "path_imagens = dict()\n",
    "img_0 = []\n",
    "\n",
    "for arq1 in files_n1:\n",
    "    path_n2 = path_n1 + '\\\\' + arq1\n",
    "    files_n2 = os.listdir(path_n2)\n",
    "    \n",
    "    path_n3 = path_n2  + '\\\\' + files_n2[0]\n",
    "    files_n3 = os.listdir(path_n3)\n",
    "\n",
    "    path_n4 = path_n3  + '\\\\' + files_n3[0]\n",
    "    files_n4 = os.listdir(path_n4);\n",
    "\n",
    "    path_n5 = [path_n4  + '\\\\' + arquivo for arquivo in files_n4]\n",
    "    path_imagens[f'{arq1}'] = path_n5\n",
    "\n",
    "    img_0.append(path_n5[0])"
   ]
  },
  {
   "cell_type": "code",
   "execution_count": 34,
   "metadata": {},
   "outputs": [
    {
     "data": {
      "text/plain": [
       "dict_keys(['STS_004', 'STS_006', 'STS_009', 'STS_010', 'STS_013', 'STS_014', 'STS_016', 'STS_017', 'STS_021', 'STS_022', 'STS_023', 'STS_024', 'STS_025', 'STS_027', 'STS_028', 'STS_041', 'STS_042', 'STS_043', 'STS_045', 'STS_046', 'STS_047', 'STS_048', 'STS_049', 'STS_050', 'STS_051'])"
      ]
     },
     "execution_count": 34,
     "metadata": {},
     "output_type": "execute_result"
    }
   ],
   "source": [
    "path_imagens.keys()"
   ]
  },
  {
   "cell_type": "code",
   "execution_count": null,
   "metadata": {},
   "outputs": [],
   "source": [
    "#Usar depois da correção\n",
    "\n",
    "imagens = dict()\n",
    "for i in path_imagens.keys():\n",
    "    for img in path_imagens[i]:\n",
    "        ds = dicom.dcmread(img)\n",
    "        imagens[f'{i}'] = ds.pixel_array\n"
   ]
  }
 ],
 "metadata": {
  "kernelspec": {
   "display_name": "Python 3.10.5 64-bit",
   "language": "python",
   "name": "python3"
  },
  "language_info": {
   "codemirror_mode": {
    "name": "ipython",
    "version": 3
   },
   "file_extension": ".py",
   "mimetype": "text/x-python",
   "name": "python",
   "nbconvert_exporter": "python",
   "pygments_lexer": "ipython3",
   "version": "3.10.5"
  },
  "orig_nbformat": 4,
  "vscode": {
   "interpreter": {
    "hash": "0f4aad36e1a7834f44c14e84b98527cfbefef55e7a336cfec74130d804d73c8f"
   }
  }
 },
 "nbformat": 4,
 "nbformat_minor": 2
}
