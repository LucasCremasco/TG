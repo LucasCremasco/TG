{
 "cells": [
  {
   "cell_type": "code",
   "execution_count": 3,
   "metadata": {},
   "outputs": [],
   "source": [
    "import pandas as pd\n",
    "import numpy as np\n",
    "import pydicom as pdc\n",
    "import seaborn as sb\n",
    "import matplotlib.pyplot as plt"
   ]
  },
  {
   "cell_type": "code",
   "execution_count": 5,
   "metadata": {},
   "outputs": [],
   "source": [
    "def path_arquivos2(path):\n",
    "    path_n1 = path\n",
    "    files_n1 = os.listdir(path_n1)\n",
    "    path_imagens = dict()\n",
    "    img_0 = dict()\n",
    "\n",
    "    for arq1 in files_n1:\n",
    "        path_n2 = path_n1 + '\\\\' + arq1\n",
    "        files_n2 = os.listdir(path_n2)\n",
    "        \n",
    "        path_n3 = path_n2  + '\\\\' + files_n2[0]\n",
    "        files_n3 = os.listdir(path_n3)\n",
    "\n",
    "        path_n4 = path_n3  + '\\\\' + files_n3[0]\n",
    "        files_n4 = os.listdir(path_n4);\n",
    "\n",
    "        path_n5 = [path_n4  + '\\\\' + arquivo for arquivo in files_n4]\n",
    "        path_imagens[f'{arq1}'] = path_n5\n",
    "\n",
    "        img_0[f'{arq1}'] = (path_n5[0])\n",
    "    return path_imagens, img_0"
   ]
  },
  {
   "cell_type": "code",
   "execution_count": 6,
   "metadata": {},
   "outputs": [],
   "source": [
    "path = r'C:\\Users\\Lucas\\Desktop\\UFABC\\TG\\Bases'\n",
    "path_imagens, img_0 = path_arquivos2(path)"
   ]
  },
  {
   "cell_type": "code",
   "execution_count": 7,
   "metadata": {},
   "outputs": [],
   "source": [
    "colunas = ['Modality', 'Manufacturer', \"Patient's Sex\",\n",
    " \"Patient's Weight\", 'Slice Thickness', 'Data Collection Diameter',\n",
    "  'Reconstruction Diameter', 'Distance Source to Patient',\n",
    "'X-Ray Tube Current', 'Rows', 'Columns', 'Pixel Spacing']"
   ]
  },
  {
   "cell_type": "code",
   "execution_count": 8,
   "metadata": {},
   "outputs": [],
   "source": [
    "\n",
    "metadados = dict()\n",
    "\n",
    "for i in img_0.keys():\n",
    "    base = dict()\n",
    "    ds = pdc.dcmread(img_0[i])\n",
    "    for elem in ds:\n",
    "        \n",
    "        if elem.name in colunas:\n",
    "            if elem.name == 'Pixel Spacing':\n",
    "                a, b = elem.value\n",
    "                c = str(a) + \" x \" + str(b)\n",
    "                base[elem.name] = c\n",
    "                \n",
    "            else:\n",
    "                base[elem.name] = elem.value\n",
    "    metadados[f'{i}'] = base"
   ]
  },
  {
   "cell_type": "code",
   "execution_count": 9,
   "metadata": {},
   "outputs": [],
   "source": [
    "df = pd.DataFrame.from_dict(metadados)\n",
    "df = df.T"
   ]
  },
  {
   "cell_type": "code",
   "execution_count": 10,
   "metadata": {},
   "outputs": [],
   "source": [
    "df.to_excel('Metadados_dataset.xlsx')"
   ]
  }
 ],
 "metadata": {
  "kernelspec": {
   "display_name": "Python 3.10.5 64-bit",
   "language": "python",
   "name": "python3"
  },
  "language_info": {
   "codemirror_mode": {
    "name": "ipython",
    "version": 3
   },
   "file_extension": ".py",
   "mimetype": "text/x-python",
   "name": "python",
   "nbconvert_exporter": "python",
   "pygments_lexer": "ipython3",
   "version": "3.10.5"
  },
  "orig_nbformat": 4,
  "vscode": {
   "interpreter": {
    "hash": "0f4aad36e1a7834f44c14e84b98527cfbefef55e7a336cfec74130d804d73c8f"
   }
  }
 },
 "nbformat": 4,
 "nbformat_minor": 2
}
